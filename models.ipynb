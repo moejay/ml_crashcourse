{
 "cells": [
  {
   "cell_type": "markdown",
   "metadata": {
    "collapsed": true
   },
   "source": [
    "# Hello again\n",
    "\n",
    "## Let's do some ML\n",
    "\n",
    "We're assuming you have the data ready, the data should be in the form of **X**, **y**\n",
    "\n",
    "**X** are all the feature data , training and test\n",
    "\n",
    "**y** are all the labels, training and test\n",
    "\n",
    "**If you've already split your data, make sure you use a version without splitting** We'll be using KFold Cross validation "
   ]
  },
  {
   "cell_type": "markdown",
   "metadata": {},
   "source": [
    "### Some imports as usual"
   ]
  },
  {
   "cell_type": "code",
   "execution_count": null,
   "metadata": {},
   "outputs": [],
   "source": [
    "import tensorflow as tf\n",
    "import numpy as np\n",
    "\n",
    "from tensorflow.python.keras._impl import keras\n",
    "import pandas as pd\n",
    "import time\n",
    "%matplotlib inline\n",
    "import matplotlib.pyplot as plt\n",
    "from os.path import join\n",
    "from sklearn.model_selection import StratifiedKFold\n",
    "# Add any imports you may need to load your dataset"
   ]
  },
  {
   "cell_type": "markdown",
   "metadata": {},
   "source": [
    "## Let's load our data  ( You should not need to do the below, and just load your X, y )"
   ]
  },
  {
   "cell_type": "code",
   "execution_count": null,
   "metadata": {},
   "outputs": [],
   "source": [
    "data = pd.read_csv('titanic_data.csv')\\\n",
    "    .dropna()\\\n",
    "    .drop(columns=['Ticket', 'PassengerId', 'Name', 'Cabin', 'Embarked'])\n",
    "data['Sex'] = data['Sex'].apply({'female':0, 'male': 1}.get)\n",
    "data['Fare'] = (data['Fare'] - data['Fare'].min()) / ( data['Fare'].max() - data['Fare'].min())\n",
    "data['Age'] = (data['Age'] - data['Age'].min()) / ( data['Age'].max() - data['Age'].min())\n",
    "\n",
    "X = np.array(data.drop(\"Survived\", axis=1)) # Drop 'Survived', which is a column (axis 1) from our original data frame\n",
    "y = np.array(data[\"Survived\"]) "
   ]
  },
  {
   "cell_type": "markdown",
   "metadata": {},
   "source": [
    "## Let's setup some hyperparameters\n",
    "\n",
    "Hyperparameters are values that you may tweak without changing the structure of your model\n"
   ]
  },
  {
   "cell_type": "code",
   "execution_count": null,
   "metadata": {},
   "outputs": [],
   "source": [
    "test_size = 0.2 # How much you want to split to use for the test\n",
    "num_epochs = 50 # Number of epochs (Times to go through the whole dataset)\n",
    "batch_size = 10 # The batch size defines how many examples to process before updating the weights\n",
    "learning_rate = 0.01 # The learning rate of the optimization function"
   ]
  },
  {
   "cell_type": "markdown",
   "metadata": {},
   "source": [
    "## Now let's define the functions that are needed by Tensorflow Estimator\n",
    "\n",
    "### Starting with the input function"
   ]
  },
  {
   "cell_type": "code",
   "execution_count": null,
   "metadata": {},
   "outputs": [],
   "source": [
    "# This returns an input function for the model, the function \n",
    "def get_input_fn(x, y, model, batch_size=1, num_epochs=1, shuffle=False):\n",
    "    return tf.estimator.inputs.numpy_input_fn(\n",
    "        x={ model.input_names[0] : x},\n",
    "        y=y,\n",
    "        batch_size=batch_size,\n",
    "        num_epochs=num_epochs,\n",
    "        shuffle=shuffle)"
   ]
  },
  {
   "cell_type": "markdown",
   "metadata": {},
   "source": [
    "### We convert the keras model to a tensorflow one\n",
    "\n",
    "#### model + loss + optimizer = model ready to be trained"
   ]
  },
  {
   "cell_type": "code",
   "execution_count": null,
   "metadata": {},
   "outputs": [],
   "source": [
    "def get_estimator(options):\n",
    "    model = options.get('model')\n",
    "    loss = options.get('loss', 'mse')\n",
    "    optimizer = options.get('optimizer', 'rmsprop')\n",
    "    model.compile(loss=loss, optimizer=optimizer)\n",
    "    return tf.keras.estimator.model_to_estimator(keras_model=model, model_dir=join('models', 'model-{}'.format(time.time())))\n"
   ]
  },
  {
   "cell_type": "markdown",
   "metadata": {},
   "source": [
    "## Let's create our model\n",
    "\n",
    "### What is Keras\n",
    "\n",
    "Keras is a higher level API for building machine learning models, it has a Tensorflow implementation, which what we'll be using.\n",
    "\n",
    "Keras can be a lot more expressive than even the high level API of tensorflow\n",
    "\n",
    "See [Keras Layers](https://keras.io/layers/core/) for more layers\n",
    "\n",
    "In this function, you can build your graph, whether it's a deep/shallow neural net, or a simple linear model as shown here"
   ]
  },
  {
   "cell_type": "code",
   "execution_count": null,
   "metadata": {},
   "outputs": [],
   "source": [
    "def CreateModel(input_shape):\n",
    "    inputs = keras.layers.Input(shape=input_shape)\n",
    "    output = keras.layers.Dense(units=1, activation='linear')(inputs)\n",
    "    return keras.models.Model(inputs=inputs, outputs=output)\n"
   ]
  },
  {
   "cell_type": "markdown",
   "metadata": {},
   "source": [
    "## And let's define the options to pass to our training function"
   ]
  },
  {
   "cell_type": "code",
   "execution_count": null,
   "metadata": {},
   "outputs": [],
   "source": [
    "options = {\n",
    "    'model': CreateModel(X.shape[1:]), # Pass only the shape of the features ( pass timesteps if applicable too )\n",
    "    'batch_size': batch_size,\n",
    "    'num_epochs': num_epochs,\n",
    "    'loss': 'mse', # See https://keras.io/losses/ for a list of loss functions\n",
    "    'optimizer': keras.optimizers.SGD(lr=learning_rate) # See https://keras.io/optimizers/ for a list of optimizers\n",
    "}"
   ]
  },
  {
   "cell_type": "markdown",
   "metadata": {},
   "source": [
    "## Setting up and training/testing with kfold"
   ]
  },
  {
   "cell_type": "code",
   "execution_count": null,
   "metadata": {},
   "outputs": [],
   "source": [
    "kfold = StratifiedKFold(n_splits=10, shuffle=True, random_state=10)\n",
    "## We create a tensorflow session\n",
    "cv_scores = []\n",
    "with tf.Session() as sess:\n",
    "    for train_index, test_index in kfold.split(X, y):\n",
    "        estimator = get_estimator(options)\n",
    "        train_input_fn = get_input_fn(X[train_index], \n",
    "                                      y[train_index], \n",
    "                                      model=options['model'], \n",
    "                                      batch_size=options['batch_size'],\n",
    "                                      shuffle=True)\n",
    "        print(\"Training....\")\n",
    "        estimator.train(input_fn=train_input_fn)\n",
    "        print(\"Evalutating...\")\n",
    "        test_input_fn = get_input_fn(X[test_index], y[test_index], model=options['model'])\n",
    "        score = estimator.evaluate(input_fn=test_input_fn)\n",
    "        print(score)\n",
    "        cv_scores.append(score['loss'])\n",
    "    \n",
    "    print(\"Average loss: {} with (+/- {:.2f}%)\".format(np.mean(cv_scores), np.std(cv_scores)))\n"
   ]
  }
 ],
 "metadata": {
  "kernelspec": {
   "display_name": "Python 3",
   "language": "python",
   "name": "python3"
  },
  "language_info": {
   "codemirror_mode": {
    "name": "ipython",
    "version": 3
   },
   "file_extension": ".py",
   "mimetype": "text/x-python",
   "name": "python",
   "nbconvert_exporter": "python",
   "pygments_lexer": "ipython3",
   "version": "3.6.5"
  }
 },
 "nbformat": 4,
 "nbformat_minor": 1
}
